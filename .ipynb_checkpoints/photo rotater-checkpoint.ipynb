{
 "cells": [
  {
   "cell_type": "code",
   "execution_count": 1,
   "metadata": {},
   "outputs": [],
   "source": [
    "from PIL import Image\n",
    "import numpy\n",
    "\n",
    "#https://stackoverflow.com/questions/18777873/convert-rgb-to-black-or-white/18778280\n",
    "\n",
    "colorImage = Image.open(\"original-images/ursa-major/ursa-major4.jpg\")\n",
    "grayImage = colorImage.convert('L')\n",
    "blackWhiteImage = grayImage.point(lambda x: 0 if x<128 else 255, '1')\n",
    "#blackWhiteImage.save(\"orion-bw.jpg\")\n",
    "blackWhiteImage.show()\n",
    "\n",
    "arr = numpy.ndarray.tolist(numpy.array(blackWhiteImage.getdata(),numpy.uint8).reshape(blackWhiteImage.size[1], blackWhiteImage.size[0]))"
   ]
  },
  {
   "cell_type": "code",
   "execution_count": 3,
   "metadata": {},
   "outputs": [
    {
     "ename": "FileNotFoundError",
     "evalue": "[Errno 2] No such file or directory: './new-images/ursa-major/ursa-major4/0.jpg'",
     "output_type": "error",
     "traceback": [
      "\u001b[1;31m---------------------------------------------------------------------------\u001b[0m",
      "\u001b[1;31mFileNotFoundError\u001b[0m                         Traceback (most recent call last)",
      "\u001b[1;32m<ipython-input-3-59529dfc3e3e>\u001b[0m in \u001b[0;36m<module>\u001b[1;34m\u001b[0m\n\u001b[0;32m     10\u001b[0m \u001b[1;32mfor\u001b[0m \u001b[0mi\u001b[0m \u001b[1;32min\u001b[0m \u001b[0mrange\u001b[0m\u001b[1;33m(\u001b[0m\u001b[1;36m360\u001b[0m\u001b[1;33m)\u001b[0m\u001b[1;33m:\u001b[0m\u001b[1;33m\u001b[0m\u001b[1;33m\u001b[0m\u001b[0m\n\u001b[0;32m     11\u001b[0m     \u001b[0mnewImg\u001b[0m \u001b[1;33m=\u001b[0m \u001b[0mlargestImg\u001b[0m\u001b[1;33m.\u001b[0m\u001b[0mrotate\u001b[0m\u001b[1;33m(\u001b[0m\u001b[0mi\u001b[0m\u001b[1;33m)\u001b[0m\u001b[1;33m\u001b[0m\u001b[1;33m\u001b[0m\u001b[0m\n\u001b[1;32m---> 12\u001b[1;33m     \u001b[0mnewImg\u001b[0m\u001b[1;33m.\u001b[0m\u001b[0msave\u001b[0m\u001b[1;33m(\u001b[0m\u001b[1;34m\"./new-images/ursa-major/ursa-major4/\"\u001b[0m \u001b[1;33m+\u001b[0m \u001b[0mstr\u001b[0m\u001b[1;33m(\u001b[0m\u001b[0mi\u001b[0m\u001b[1;33m)\u001b[0m \u001b[1;33m+\u001b[0m \u001b[1;34m\".jpg\"\u001b[0m\u001b[1;33m,\u001b[0m \u001b[1;34m\"JPEG\"\u001b[0m\u001b[1;33m)\u001b[0m\u001b[1;33m\u001b[0m\u001b[1;33m\u001b[0m\u001b[0m\n\u001b[0m\u001b[0;32m     13\u001b[0m \u001b[1;33m\u001b[0m\u001b[0m\n\u001b[0;32m     14\u001b[0m \u001b[1;33m\u001b[0m\u001b[0m\n",
      "\u001b[1;32mc:\\users\\summer_tony\\appdata\\local\\programs\\python\\python36\\lib\\site-packages\\PIL\\Image.py\u001b[0m in \u001b[0;36msave\u001b[1;34m(self, fp, format, **params)\u001b[0m\n\u001b[0;32m   2002\u001b[0m                 \u001b[1;31m# Open also for reading (\"+\"), because TIFF save_all\u001b[0m\u001b[1;33m\u001b[0m\u001b[1;33m\u001b[0m\u001b[1;33m\u001b[0m\u001b[0m\n\u001b[0;32m   2003\u001b[0m                 \u001b[1;31m# writer needs to go back and edit the written data.\u001b[0m\u001b[1;33m\u001b[0m\u001b[1;33m\u001b[0m\u001b[1;33m\u001b[0m\u001b[0m\n\u001b[1;32m-> 2004\u001b[1;33m                 \u001b[0mfp\u001b[0m \u001b[1;33m=\u001b[0m \u001b[0mbuiltins\u001b[0m\u001b[1;33m.\u001b[0m\u001b[0mopen\u001b[0m\u001b[1;33m(\u001b[0m\u001b[0mfilename\u001b[0m\u001b[1;33m,\u001b[0m \u001b[1;34m\"w+b\"\u001b[0m\u001b[1;33m)\u001b[0m\u001b[1;33m\u001b[0m\u001b[1;33m\u001b[0m\u001b[0m\n\u001b[0m\u001b[0;32m   2005\u001b[0m \u001b[1;33m\u001b[0m\u001b[0m\n\u001b[0;32m   2006\u001b[0m         \u001b[1;32mtry\u001b[0m\u001b[1;33m:\u001b[0m\u001b[1;33m\u001b[0m\u001b[1;33m\u001b[0m\u001b[0m\n",
      "\u001b[1;31mFileNotFoundError\u001b[0m: [Errno 2] No such file or directory: './new-images/ursa-major/ursa-major4/0.jpg'"
     ]
    }
   ],
   "source": [
    "\n",
    "finalSize = 256\n",
    "\n",
    "maxRotatedSize = blackWhiteImage.rotate(45, expand=1)\n",
    "x, y = maxRotatedSize.size\n",
    "largestDimension = max(x, y)\n",
    "largestImg = Image.new('RGB', (largestDimension, largestDimension), (0, 0, 0, 0))\n",
    "largestImg.paste(maxRotatedSize, (int((largestDimension - x) / 2), int((largestDimension - y) / 2)))\n",
    "largestImg = largestImg.resize((finalSize, finalSize))\n",
    "for i in range(360):\n",
    "    newImg = largestImg.rotate(i)\n",
    "    newImg.save(\"./new-images/ursa-major/ursa-major4/\" + str(i) + \".jpg\", \"JPEG\")\n",
    "    \n",
    "    \n",
    "\n",
    "\n",
    "\n"
   ]
  },
  {
   "cell_type": "code",
   "execution_count": 17,
   "metadata": {},
   "outputs": [
    {
     "name": "stdout",
     "output_type": "stream",
     "text": [
      "12: (427, 286)\n",
      "11: (149, 110)\n"
     ]
    }
   ],
   "source": [
    "# find a prefix sum array for all the adjacent white pixels in the same row.\n",
    "# [255,0,0,0,0,255,255,0] -> [255,0,0,0,0,255,510,0]\n",
    "# the largest number (\"brightness\") indicates the right end of the brightest star\n",
    "def findPSA():\n",
    "    prefixSumArray = []\n",
    "    for eachLn in arr:\n",
    "        newLn = []\n",
    "        # in each row\n",
    "        for i in range(len(eachLn)):\n",
    "            # if it's white, add 255 to the brightness of the previous pixel\n",
    "            if eachLn[i] == 255:\n",
    "                if i - 1 >= 0:\n",
    "                    newLn.append(newLn[i-1] + 255)\n",
    "                else:\n",
    "                    newLn.append(255)\n",
    "            # if it's black, fill it with 0\n",
    "            else:\n",
    "                newLn.append(0)\n",
    "        prefixSumArray.append(newLn)\n",
    "    return prefixSumArray\n",
    "\n",
    "arrForBrightest = findPSA()\n",
    "\n",
    "# iterate through to find the brightest spot\n",
    "def findBrightest():\n",
    "    maxValue = 0\n",
    "    maxPos = (0, 0)\n",
    "    for i in range(len(arrForBrightest)):\n",
    "        for j in range(len(arrForBrightest[0])):\n",
    "            if arrForBrightest[i][j] > maxValue:\n",
    "                maxValue = arrForBrightest[i][j]\n",
    "                maxPos = (i, j)\n",
    "    width = maxValue // 255\n",
    "    maxPos = (maxPos[0], maxPos[1] - width // 2)\n",
    "    return (width, maxPos)\n",
    "\n",
    "brightest = findBrightest()\n",
    "print(brightest[0], end=\": \")\n",
    "print(brightest[1])\n",
    "\n",
    "def removeBrightest(i, j):\n",
    "    if arrForBrightest[i][j] == 0:\n",
    "        return\n",
    "    else:\n",
    "        arrForBrightest[i][j] = 0\n",
    "        if i > 0:\n",
    "            removeBrightest(i - 1, j)\n",
    "        if i + 1 < len(arrForBrightest):\n",
    "            removeBrightest(i + 1, j)\n",
    "        if j > 0:\n",
    "            removeBrightest(i, j - 1)\n",
    "        if j + 1 < len(arrForBrightest[0]):\n",
    "            removeBrightest(i, j + 1)\n",
    "\n",
    "removeBrightest(brightest[1][0], brightest[1][1])\n",
    "\n",
    "secondBrightest = findBrightest()\n",
    "print(secondBrightest[0], end=\": \")\n",
    "print(secondBrightest[1])\n",
    "\n"
   ]
  }
 ],
 "metadata": {
  "kernelspec": {
   "display_name": "Python 3",
   "language": "python",
   "name": "python3"
  },
  "language_info": {
   "codemirror_mode": {
    "name": "ipython",
    "version": 3
   },
   "file_extension": ".py",
   "mimetype": "text/x-python",
   "name": "python",
   "nbconvert_exporter": "python",
   "pygments_lexer": "ipython3",
   "version": "3.6.8"
  }
 },
 "nbformat": 4,
 "nbformat_minor": 2
}
