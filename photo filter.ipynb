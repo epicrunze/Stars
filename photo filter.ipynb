{
 "cells": [
  {
   "cell_type": "code",
   "execution_count": 2,
   "metadata": {},
   "outputs": [],
   "source": [
    "from PIL import Image\n",
    "import numpy\n",
    "\n",
    "#https://stackoverflow.com/questions/18777873/convert-rgb-to-black-or-white/18778280\n",
    "\n",
    "colorImage = Image.open(\"orion.jpg\")\n",
    "grayImage = colorImage.convert('L')\n",
    "blackWhiteImage = grayImage.point(lambda x: 0 if x<128 else 255, '1')\n",
    "blackWhiteImage.save(\"orion-bw.jpg\")\n",
    "\n",
    "arr = numpy.ndarray.tolist(numpy.array(blackWhiteImage.getdata(),numpy.uint8).reshape(blackWhiteImage.size[1], blackWhiteImage.size[0]))\n"
   ]
  }
 ],
 "metadata": {
  "kernelspec": {
   "display_name": "Python 3",
   "language": "python",
   "name": "python3"
  },
  "language_info": {
   "codemirror_mode": {
    "name": "ipython",
    "version": 3
   },
   "file_extension": ".py",
   "mimetype": "text/x-python",
   "name": "python",
   "nbconvert_exporter": "python",
   "pygments_lexer": "ipython3",
   "version": "3.6.8"
  }
 },
 "nbformat": 4,
 "nbformat_minor": 2
}
