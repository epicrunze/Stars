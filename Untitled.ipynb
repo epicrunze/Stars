{
 "cells": [
  {
   "cell_type": "code",
   "execution_count": 10,
   "metadata": {},
   "outputs": [
    {
     "name": "stdout",
     "output_type": "stream",
     "text": [
      "33\n"
     ]
    }
   ],
   "source": [
    "from PIL import Image\n",
    "from math import atan, pi\n",
    "import numpy\n",
    "\n",
    "img = Image.open(\"original-images/orion/orion1.jpg\")\n",
    "img = img.convert('L')\n",
    "img = img.point(lambda x: 0 if x< 128 else 255, '1')\n",
    "brightests = findBrightests(img)\n",
    "star1 = brightests[0]\n",
    "star2 = brightests[1]\n",
    "slope = (star1[1] - star2[1]) / (star1[0] - star2[0])\n",
    "angle = int(atan(slope) * 360 / 2 / pi)\n",
    "print(angle)\n",
    "\n",
    "\n",
    "def adjustPhoto\n",
    "\n",
    "maxRotatedSize = blackWhiteImage.rotate(45, expand=1)\n",
    "x, y = maxRotatedSize.size\n",
    "largestDimension = max(x, y)\n",
    "largestImg = Image.new('RGB', (largestDimension, largestDimension), (0, 0, 0, 0))\n",
    "largestImg.paste(maxRotatedSize, (int((largestDimension - x) / 2), int((largestDimension - y) / 2)))\n",
    "largestImg = largestImg.resize((finalSize, finalSize))\n",
    "for i in range(360):\n",
    "    newImg = largestImg.rotate(i)\n",
    "    newImg.save(\"./smallTestData/smallertestdata/O/O2-\" + str(i) + \".bmp\")"
   ]
  },
  {
   "cell_type": "code",
   "execution_count": 9,
   "metadata": {},
   "outputs": [],
   "source": [
    "def findBrightests(image):\n",
    "    arr = numpy.ndarray.tolist(numpy.array(image.getdata(),numpy.uint8).reshape(image.size[1], image.size[0]))\n",
    "    arrForBrightest = findPSA(arr)\n",
    "    brightest = findBrightest(arrForBrightest)\n",
    "    removeBrightest(arrForBrightest, brightest[1][0], brightest[1][1])\n",
    "    secondBrightest = findBrightest(arrForBrightest)\n",
    "    return (brightest[1], secondBrightest[1])\n",
    "    \n",
    "\n",
    "\n",
    "\n",
    "# find a prefix sum array for all the adjacent white pixels in the same row.\n",
    "# [255,0,0,0,0,255,255,0] -> [255,0,0,0,0,255,510,0]\n",
    "# the largest number (\"brightness\") indicates the right end of the brightest star\n",
    "def findPSA(arr):\n",
    "    prefixSumArray = []\n",
    "    for eachLn in arr:\n",
    "        newLn = []\n",
    "        # in each row\n",
    "        for i in range(len(eachLn)):\n",
    "            # if it's white, add 255 to the brightness of the previous pixel\n",
    "            if eachLn[i] == 255:\n",
    "                if i - 1 >= 0:\n",
    "                    newLn.append(newLn[i-1] + 255)\n",
    "                else:\n",
    "                    newLn.append(255)\n",
    "            # if it's black, fill it with 0\n",
    "            else:\n",
    "                newLn.append(0)\n",
    "        prefixSumArray.append(newLn)\n",
    "    return prefixSumArray\n",
    "\n",
    "\n",
    "# iterate through to find the brightest spot\n",
    "def findBrightest(arrForBrightest):\n",
    "    maxValue = 0\n",
    "    maxPos = (0, 0)\n",
    "    for i in range(len(arrForBrightest)):\n",
    "        for j in range(len(arrForBrightest[0])):\n",
    "            if arrForBrightest[i][j] > maxValue:\n",
    "                maxValue = arrForBrightest[i][j]\n",
    "                maxPos = (i, j)\n",
    "    width = maxValue // 255\n",
    "    maxPos = (maxPos[0], maxPos[1] - width // 2)\n",
    "    return (width, maxPos)\n",
    "\n",
    "def removeBrightest(arrForBrightest, i, j):\n",
    "    if arrForBrightest[i][j] == 0:\n",
    "        return\n",
    "    else:\n",
    "        arrForBrightest[i][j] = 0\n",
    "        if i > 0:\n",
    "            removeBrightest(arrForBrightest, i - 1, j)\n",
    "        if i + 1 < len(arrForBrightest):\n",
    "            removeBrightest(arrForBrightest, i + 1, j)\n",
    "        if j > 0:\n",
    "            removeBrightest(arrForBrightest, i, j - 1)\n",
    "        if j + 1 < len(arrForBrightest[0]):\n",
    "            removeBrightest(arrForBrightest, i, j + 1)\n",
    "\n"
   ]
  }
 ],
 "metadata": {
  "kernelspec": {
   "display_name": "Python 3",
   "language": "python",
   "name": "python3"
  },
  "language_info": {
   "codemirror_mode": {
    "name": "ipython",
    "version": 3
   },
   "file_extension": ".py",
   "mimetype": "text/x-python",
   "name": "python",
   "nbconvert_exporter": "python",
   "pygments_lexer": "ipython3",
   "version": "3.6.8"
  }
 },
 "nbformat": 4,
 "nbformat_minor": 2
}
